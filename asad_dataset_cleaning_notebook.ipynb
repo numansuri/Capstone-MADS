{
 "cells": [
  {
   "cell_type": "code",
   "execution_count": 23,
   "id": "regular-contrary",
   "metadata": {},
   "outputs": [],
   "source": [
    "# Core libraries\n",
    "import pandas as pd\n",
    "import numpy as np\n",
    "from sklearn.compose import ColumnTransformer\n",
    "from sklearn.preprocessing import OneHotEncoder\n",
    "from scipy.stats import chi2_contingency, ttest_ind\n",
    "from sklearn.model_selection import train_test_split"
   ]
  },
  {
   "cell_type": "code",
   "execution_count": 10,
   "id": "addressed-edinburgh",
   "metadata": {},
   "outputs": [],
   "source": [
    "# Load and inspect data\n",
    "# Load CSV\n",
    "df = pd.read_csv(\"adult23.csv\")\n",
    "\n",
    "# Keep only selected columns for heart disease modeling\n",
    "cols = [\n",
    "    'MIEV_A', 'CHDEV_A', 'ANGEV_A', 'STREV_A', 'HYPEV_A', 'CHLEV_A',\n",
    "    'DIBLAST1_A', 'BMICAT_A', 'SMKCIGST_A', 'ASEV_A', 'CANEV_A', 'ARTHEV_A',\n",
    "    'COPDEV_A', 'DEPEV_A', 'ANXEV_A', 'DEPFREQ_A', 'ANXFREQ_A', 'ANXMED_A',\n",
    "    'NOTCOV_A', 'PLN1PAY4_A', 'PLN1PAY5_A', 'PLN1PAY6_A', 'PRDEDUC1_A',\n",
    "    'AGEP_A', 'SEX_A', 'RACEALLP_A', 'EDUCP_A', 'EMPLASTWK_A', 'REGION',\n",
    "    'URBRRL'\n",
    "]\n",
    "df_filtered = df[cols]"
   ]
  },
  {
   "cell_type": "code",
   "execution_count": 11,
   "id": "continuing-prairie",
   "metadata": {},
   "outputs": [],
   "source": [
    "# Drop rows with more than 50% missing values\n",
    "thresh = len(df_filtered) * 0.5\n",
    "df_filtered = df_filtered.dropna(axis=1, thresh=thresh)"
   ]
  },
  {
   "cell_type": "code",
   "execution_count": 14,
   "id": "boring-asian",
   "metadata": {},
   "outputs": [],
   "source": [
    "# Handle survey data codes\n",
    "ambiguous_codes = [7, 8, 9]\n",
    "binary_map_cols = [\n",
    "    'MIEV_A', 'CHDEV_A', 'ANGEV_A', 'STREV_A', 'HYPEV_A', 'CHLEV_A',\n",
    "    'ASEV_A', 'CANEV_A', 'ARTHEV_A', 'COPDEV_A', 'DEPEV_A', 'ANXEV_A',\n",
    "    'ANXMED_A', 'PLN1PAY4_A', 'PLN1PAY5_A', 'PLN1PAY6_A'\n",
    "]\n",
    "\n",
    "for col in binary_map_cols:\n",
    "    df_filtered[col] = df_filtered[col].replace(ambiguous_codes, pd.NA)\n",
    "    df_filtered[col] = df_filtered[col].map({1: 1, 2: 0})\n",
    "\n",
    "\n",
    "ordinal_or_multiclass = [\n",
    "    'DIBLAST1_A',   # diabetes\n",
    "    'BMICAT_A',     # BMI\n",
    "    'SMKCIGST_A',   # smoking status\n",
    "    'DEPFREQ_A',    # depression frequency\n",
    "    'ANXFREQ_A',    # anxiety frequency\n",
    "    'NOTCOV_A',     # insurance coverage\n",
    "    'PRDEDUC1_A',   # deductible\n",
    "    'SEX_A',        # male or female\n",
    "    'RACEALLP_A',   # race\n",
    "    'EDUCP_A',      # education \n",
    "    'EMPLASTWK_A',  # employment\n",
    "    'REGION',       # region\n",
    "    'URBRRL'        # urban/rural\n",
    "]\n",
    "\n",
    "for col in ordinal_or_multiclass:\n",
    "    df_filtered[col] = df_filtered[col].replace(ambiguous_codes, pd.NA)\n",
    "    \n",
    "for col in df_filtered.columns:\n",
    "    df_filtered[col] = df_filtered[col].fillna(df_filtered[col].mode()[0])"
   ]
  },
  {
   "cell_type": "code",
   "execution_count": 16,
   "id": "loving-groove",
   "metadata": {},
   "outputs": [],
   "source": [
    "# Build binary heart_disease target variable\n",
    "df_filtered['heart_disease'] = (\n",
    "    (df_filtered['CHDEV_A'] == 1) |\n",
    "    (df_filtered['ANGEV_A'] == 1) |\n",
    "    (df_filtered['MIEV_A']  == 1)\n",
    ").astype(int)"
   ]
  },
  {
   "cell_type": "code",
   "execution_count": 18,
   "id": "dutch-oxygen",
   "metadata": {},
   "outputs": [
    {
     "name": "stdout",
     "output_type": "stream",
     "text": [
      "Chi-Square Test: Categorical Features\n",
      "    feature    chi2_stat       p_value\n",
      "     MIEV_A 12781.472403  0.000000e+00\n",
      "    CHDEV_A 21933.256244  0.000000e+00\n",
      "    ANGEV_A  6479.342173  0.000000e+00\n",
      "    HYPEV_A  1700.647180  0.000000e+00\n",
      "    CHLEV_A  1444.059028  0.000000e+00\n",
      "EMPLASTWK_A  1136.869558 1.354915e-247\n",
      "   ARTHEV_A  1055.036214 1.957459e-231\n",
      "   COPDEV_A   904.369983 1.101137e-198\n",
      " DIBLAST1_A   877.290464 3.845743e-185\n",
      "    STREV_A   763.131015 5.601172e-168\n",
      "    CANEV_A   499.531271 1.202144e-110\n",
      " SMKCIGST_A   362.616754  3.360091e-76\n",
      "    EDUCP_A   196.276889  1.997162e-37\n",
      "  DEPFREQ_A   128.604383  4.706591e-26\n",
      " RACEALLP_A   124.532180  1.818031e-24\n",
      "      SEX_A   102.195889  6.433462e-23\n",
      "   NOTCOV_A    98.321308  4.464773e-22\n",
      "     URBRRL    92.232085  7.262276e-20\n",
      "   BMICAT_A    62.015336  1.093440e-12\n",
      "    DEPEV_A    49.069362  2.470693e-12\n",
      "  ANXFREQ_A    57.380234  4.221870e-11\n",
      " PLN1PAY4_A    41.704993  1.061376e-10\n",
      "     REGION    44.347145  1.273486e-09\n",
      "   ANXMED_A    24.549946  7.240837e-07\n",
      "    ANXEV_A    15.324359  9.054148e-05\n",
      "     ASEV_A    13.598979  2.263085e-04\n",
      " PLN1PAY6_A     9.561353  1.987166e-03\n",
      " PLN1PAY5_A     8.756965  3.084219e-03\n",
      "\n",
      "T-Test: Numerical Features\n",
      "   feature     t_stat      p_value\n",
      "    AGEP_A -62.650716 0.000000e+00\n",
      "PRDEDUC1_A -10.384718 3.454133e-24\n"
     ]
    }
   ],
   "source": [
    "# Chi-square and T-tests\n",
    "df_stats = df_filtered.copy()\n",
    "\n",
    "cat_feats = [\n",
    "    'MIEV_A', 'CHDEV_A', 'ANGEV_A', 'STREV_A', 'HYPEV_A', 'CHLEV_A',\n",
    "    'DIBLAST1_A', 'BMICAT_A', 'SMKCIGST_A', 'ASEV_A', 'CANEV_A', 'ARTHEV_A',\n",
    "    'COPDEV_A', 'DEPEV_A', 'ANXEV_A', 'DEPFREQ_A', 'ANXFREQ_A', 'ANXMED_A',\n",
    "    'NOTCOV_A', 'PLN1PAY4_A', 'PLN1PAY5_A', 'PLN1PAY6_A',\n",
    "    'SEX_A', 'RACEALLP_A', 'EDUCP_A', 'EMPLASTWK_A', 'REGION', 'URBRRL'\n",
    "]\n",
    "\n",
    "num_feats = ['PRDEDUC1_A', 'AGEP_A']  \n",
    "\n",
    "df_stats = df_stats.dropna(subset=['heart_disease'])\n",
    "\n",
    "chi2_results = []\n",
    "for col in cat_feats:\n",
    "    tbl = pd.crosstab(df_stats[col].fillna(\"Missing\"), df_stats['heart_disease'])\n",
    "    if tbl.shape[0] > 1: \n",
    "        chi2, p, dof, expected = chi2_contingency(tbl)\n",
    "        chi2_results.append({\n",
    "            'feature': col,\n",
    "            'chi2_stat': chi2,\n",
    "            'p_value': p\n",
    "        })\n",
    "\n",
    "chi2_df = pd.DataFrame(chi2_results).sort_values('p_value')\n",
    "\n",
    "ttest_results = []\n",
    "for col in num_feats:\n",
    "    grp0 = df_stats[df_stats['heart_disease'] == 0][col].dropna()\n",
    "    grp1 = df_stats[df_stats['heart_disease'] == 1][col].dropna()\n",
    "    if len(grp0) > 1 and len(grp1) > 1:\n",
    "        t_stat, p = ttest_ind(grp0, grp1, equal_var=False)\n",
    "        ttest_results.append({\n",
    "            'feature': col,\n",
    "            't_stat': t_stat,\n",
    "            'p_value': p\n",
    "        })\n",
    "\n",
    "t_df = pd.DataFrame(ttest_results).sort_values('p_value')\n",
    "\n",
    "# Print results\n",
    "print(\"Chi-Square Test: Categorical Features\")\n",
    "print(chi2_df.to_string(index=False))\n",
    "\n",
    "print(\"\\nT-Test: Numerical Features\")\n",
    "print(t_df.to_string(index=False))"
   ]
  },
  {
   "cell_type": "code",
   "execution_count": 20,
   "id": "foster-chest",
   "metadata": {},
   "outputs": [
    {
     "name": "stdout",
     "output_type": "stream",
     "text": [
      "Top statistically significant categorical features: ['MIEV_A', 'CHDEV_A', 'ANGEV_A', 'HYPEV_A', 'CHLEV_A', 'EMPLASTWK_A', 'ARTHEV_A', 'COPDEV_A', 'DIBLAST1_A', 'STREV_A', 'CANEV_A', 'SMKCIGST_A', 'EDUCP_A', 'DEPFREQ_A', 'RACEALLP_A', 'SEX_A', 'NOTCOV_A', 'URBRRL', 'BMICAT_A', 'DEPEV_A', 'ANXFREQ_A', 'PLN1PAY4_A', 'REGION', 'ANXMED_A', 'ANXEV_A', 'ASEV_A', 'PLN1PAY6_A', 'PLN1PAY5_A']\n"
     ]
    }
   ],
   "source": [
    "top_chi2_features = chi2_df.loc[chi2_df['p_value'] < 0.05, 'feature'].tolist()\n",
    "print(\"Top statistically significant categorical features:\", top_chi2_features)"
   ]
  },
  {
   "cell_type": "code",
   "execution_count": 21,
   "id": "casual-mexican",
   "metadata": {},
   "outputs": [],
   "source": [
    "X = df_filtered[top_chi2_features + ['AGEP_A', 'PRDEDUC1_A']]\n",
    "y = df_filtered['heart_disease']"
   ]
  },
  {
   "cell_type": "code",
   "execution_count": 22,
   "id": "verified-vaccine",
   "metadata": {},
   "outputs": [
    {
     "name": "stdout",
     "output_type": "stream",
     "text": [
      "(29522, 105)\n"
     ]
    }
   ],
   "source": [
    "# One-hot encoding\n",
    "categorical_cols = [\n",
    "    col for col in X.columns\n",
    "    if X[col].nunique() > 2 and X[col].dtype in ['int64', 'float64']\n",
    "]\n",
    "\n",
    "column_transformer = ColumnTransformer(\n",
    "    transformers=[\n",
    "        ('onehot', OneHotEncoder(sparse=False, handle_unknown='ignore'), categorical_cols)\n",
    "    ],\n",
    "    remainder='passthrough'\n",
    ")\n",
    "\n",
    "X_encoded = column_transformer.fit_transform(X)\n",
    "\n",
    "encoded_col_names = column_transformer.named_transformers_['onehot'].get_feature_names(categorical_cols)\n",
    "\n",
    "passthrough_cols = [col for col in X.columns if col not in categorical_cols]\n",
    "final_cols = list(encoded_col_names) + passthrough_cols\n",
    "\n",
    "X_final = pd.DataFrame(X_encoded, columns=final_cols)\n",
    "\n",
    "print(X_final.shape)"
   ]
  },
  {
   "cell_type": "code",
   "execution_count": 24,
   "id": "angry-afghanistan",
   "metadata": {},
   "outputs": [
    {
     "name": "stdout",
     "output_type": "stream",
     "text": [
      "Train shape: (23617, 105)\n",
      "Test shape : (5905, 105)\n"
     ]
    }
   ],
   "source": [
    "# Train-test split\n",
    "\n",
    "X_train, X_test, y_train, y_test = train_test_split(X_final, y, test_size=0.2, stratify=y, random_state=42)\n",
    "\n",
    "print(\"Train shape:\", X_train.shape)\n",
    "print(\"Test shape :\", X_test.shape)"
   ]
  }
 ],
 "metadata": {
  "kernelspec": {
   "display_name": "Python 3",
   "language": "python",
   "name": "python3"
  },
  "language_info": {
   "codemirror_mode": {
    "name": "ipython",
    "version": 3
   },
   "file_extension": ".py",
   "mimetype": "text/x-python",
   "name": "python",
   "nbconvert_exporter": "python",
   "pygments_lexer": "ipython3",
   "version": "3.7.10"
  }
 },
 "nbformat": 4,
 "nbformat_minor": 5
}
